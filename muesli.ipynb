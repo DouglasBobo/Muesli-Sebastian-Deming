{
 "cells": [
  {
   "cell_type": "code",
   "execution_count": 1,
   "metadata": {},
   "outputs": [],
   "source": [
    "# Import some libs\n",
    "import pandas as pd\n",
    "import matplotlib.pyplot as plt\n",
    "import openpyxl as op"
   ]
  },
  {
   "cell_type": "code",
   "execution_count": 2,
   "metadata": {},
   "outputs": [],
   "source": [
    "# read data\n",
    "#df = pd.read_excel('data/5 - Muesli Project raw data.xlsx', skiprows=1) # remove first row\n",
    "\n",
    "df_orders = pd.read_csv('data/5 - Muesli Project raw data - Orders.csv', skiprows=1)\n",
    "df_campaigns = pd.read_csv('data/5 - Muesli Project raw data - Campaign Data.csv')\n",
    "df_intern_data = pd.read_csv('data/5 - Muesli Project raw data - InternData Study.csv')\n",
    "df_process_data = pd.read_csv('data/5 - Muesli Project raw data - Order Process Data.csv')\n",
    "\n",
    "#df_process_data.head(20)"
   ]
  },
  {
   "cell_type": "code",
   "execution_count": 3,
   "metadata": {},
   "outputs": [],
   "source": [
    "# clean up data - replace ' ' with '_'\n",
    "\n",
    "cols = df_orders.columns.tolist()\n",
    "cols = [col.replace(' ', '_') for col in cols]\n",
    "df_orders.columns = cols\n",
    "\n",
    "cols = df_campaigns.columns.tolist()\n",
    "cols = [col.replace(' ', '_') for col in cols]\n",
    "df_campaigns.columns = cols\n",
    "\n",
    "cols = df_intern_data.columns.tolist()\n",
    "cols = [col.replace(' ', '_') for col in cols]\n",
    "df_intern_data.columns = cols\n",
    "\n",
    "cols = df_process_data.columns.tolist()\n",
    "cols = [col.replace(' ', '_') for col in cols]\n",
    "df_process_data.columns = cols\n",
    "\n",
    "#df_process_data.head(20)\n"
   ]
  },
  {
   "cell_type": "code",
   "execution_count": 4,
   "metadata": {},
   "outputs": [],
   "source": [
    "# clean up - data - convert date string to datetime obj.\n",
    "\n",
    "df_orders['Order_Date'] = pd.to_datetime(df_orders['Order_Date'], dayfirst=True, format=\"%d/%m/%y\", infer_datetime_format=True)\n",
    "\n",
    "df_campaigns['Arrival_Scan_Date'] = pd.to_datetime(df_campaigns['Arrival_Scan_Date'], dayfirst=True, format=\"%d/%m/%y\", infer_datetime_format=True)\n",
    "\n",
    "df_intern_data['Ready_to_Ship_Date'] = pd.to_datetime(df_intern_data['Ready_to_Ship_Date'], dayfirst=True, format=\"%d/%m/%y\", infer_datetime_format=True)\n",
    "df_intern_data['Pickup_Date'] = pd.to_datetime(df_intern_data['Pickup_Date'], dayfirst=True, format=\"%d/%m/%y\", infer_datetime_format=True)\n",
    "\n",
    "df_process_data['Order_Date'] = pd.to_datetime(df_process_data['Order_Date'], dayfirst=True, format=\"%d/%m/%y\", infer_datetime_format=True)\n",
    "df_process_data['On_Truck_Scan_Date'] = pd.to_datetime(df_process_data['On_Truck_Scan_Date'], dayfirst=True, format=\"%d/%m/%y\", infer_datetime_format=True)\n",
    "\n",
    "#df_process_data.head(20)"
   ]
  },
  {
   "cell_type": "code",
   "execution_count": 5,
   "metadata": {},
   "outputs": [],
   "source": [
    "# find duplicates and remove\n",
    "\n",
    "df_orders.drop(['Index'], axis=1, inplace=True)\n",
    "df_orders.drop_duplicates(inplace=True)\n",
    "#df_orders.duplicated().value_counts()\n",
    "\n",
    "df_intern_data.drop_duplicates(inplace=True) \n",
    "#df_intern_data.duplicated().value_counts()\n",
    "\n",
    "df_process_data.drop(['Row_ID'], axis=1, inplace=True)\n",
    "df_process_data.drop_duplicates(inplace=True)\n",
    "#df_process_data.duplicated().value_counts()"
   ]
  },
  {
   "cell_type": "code",
   "execution_count": 6,
   "metadata": {},
   "outputs": [],
   "source": [
    "#make copies of data ...\n",
    "df_orders_data = df_orders.copy()\n",
    "df_express_data = df_process_data.copy()\n",
    "df_standard_data = df_process_data.copy()"
   ]
  },
  {
   "cell_type": "code",
   "execution_count": 7,
   "metadata": {},
   "outputs": [
    {
     "name": "stderr",
     "output_type": "stream",
     "text": [
      "/var/folders/39/wgdpps3j1cgbbz8__bqxd_q00000gn/T/ipykernel_46550/3980452758.py:5: SettingWithCopyWarning: \n",
      "A value is trying to be set on a copy of a slice from a DataFrame\n",
      "\n",
      "See the caveats in the documentation: https://pandas.pydata.org/pandas-docs/stable/user_guide/indexing.html#returning-a-view-versus-a-copy\n",
      "  x.drop_duplicates(inplace=True)\n"
     ]
    },
    {
     "data": {
      "text/html": [
       "<div>\n",
       "<style scoped>\n",
       "    .dataframe tbody tr th:only-of-type {\n",
       "        vertical-align: middle;\n",
       "    }\n",
       "\n",
       "    .dataframe tbody tr th {\n",
       "        vertical-align: top;\n",
       "    }\n",
       "\n",
       "    .dataframe thead th {\n",
       "        text-align: right;\n",
       "    }\n",
       "</style>\n",
       "<table border=\"1\" class=\"dataframe\">\n",
       "  <thead>\n",
       "    <tr style=\"text-align: right;\">\n",
       "      <th></th>\n",
       "      <th>Order_ID</th>\n",
       "      <th>Order_Date</th>\n",
       "      <th>Arrival_Scan_Date</th>\n",
       "      <th>Duration</th>\n",
       "    </tr>\n",
       "  </thead>\n",
       "  <tbody>\n",
       "    <tr>\n",
       "      <th>0</th>\n",
       "      <td>CA-2019-145625</td>\n",
       "      <td>2019-09-11</td>\n",
       "      <td>2019-09-23</td>\n",
       "      <td>12 days</td>\n",
       "    </tr>\n",
       "    <tr>\n",
       "      <th>1</th>\n",
       "      <td>CA-2019-162138</td>\n",
       "      <td>2019-04-23</td>\n",
       "      <td>2019-05-06</td>\n",
       "      <td>13 days</td>\n",
       "    </tr>\n",
       "    <tr>\n",
       "      <th>2</th>\n",
       "      <td>CA-2019-169166</td>\n",
       "      <td>2019-05-09</td>\n",
       "      <td>2019-05-20</td>\n",
       "      <td>11 days</td>\n",
       "    </tr>\n",
       "    <tr>\n",
       "      <th>3</th>\n",
       "      <td>CA-2020-131954</td>\n",
       "      <td>2020-01-21</td>\n",
       "      <td>2020-02-03</td>\n",
       "      <td>13 days</td>\n",
       "    </tr>\n",
       "    <tr>\n",
       "      <th>4</th>\n",
       "      <td>CA-2019-102981</td>\n",
       "      <td>2019-09-06</td>\n",
       "      <td>2019-09-16</td>\n",
       "      <td>10 days</td>\n",
       "    </tr>\n",
       "    <tr>\n",
       "      <th>5</th>\n",
       "      <td>CA-2019-168081</td>\n",
       "      <td>2019-04-24</td>\n",
       "      <td>2019-05-06</td>\n",
       "      <td>12 days</td>\n",
       "    </tr>\n",
       "    <tr>\n",
       "      <th>6</th>\n",
       "      <td>CA-2019-119186</td>\n",
       "      <td>2019-05-26</td>\n",
       "      <td>2019-05-31</td>\n",
       "      <td>5 days</td>\n",
       "    </tr>\n",
       "    <tr>\n",
       "      <th>7</th>\n",
       "      <td>CA-2019-124485</td>\n",
       "      <td>2019-11-24</td>\n",
       "      <td>2019-12-02</td>\n",
       "      <td>8 days</td>\n",
       "    </tr>\n",
       "    <tr>\n",
       "      <th>8</th>\n",
       "      <td>CA-2020-115994</td>\n",
       "      <td>2020-01-28</td>\n",
       "      <td>2020-02-06</td>\n",
       "      <td>9 days</td>\n",
       "    </tr>\n",
       "    <tr>\n",
       "      <th>9</th>\n",
       "      <td>CA-2019-106530</td>\n",
       "      <td>2019-05-08</td>\n",
       "      <td>2019-05-13</td>\n",
       "      <td>5 days</td>\n",
       "    </tr>\n",
       "    <tr>\n",
       "      <th>10</th>\n",
       "      <td>CA-2019-128531</td>\n",
       "      <td>2019-11-24</td>\n",
       "      <td>2019-12-03</td>\n",
       "      <td>9 days</td>\n",
       "    </tr>\n",
       "    <tr>\n",
       "      <th>11</th>\n",
       "      <td>CA-2020-117870</td>\n",
       "      <td>2020-01-27</td>\n",
       "      <td>2020-02-06</td>\n",
       "      <td>10 days</td>\n",
       "    </tr>\n",
       "    <tr>\n",
       "      <th>12</th>\n",
       "      <td>CA-2020-140949</td>\n",
       "      <td>2020-03-17</td>\n",
       "      <td>2020-03-30</td>\n",
       "      <td>13 days</td>\n",
       "    </tr>\n",
       "    <tr>\n",
       "      <th>13</th>\n",
       "      <td>CA-2019-124506</td>\n",
       "      <td>2019-11-11</td>\n",
       "      <td>2019-11-25</td>\n",
       "      <td>14 days</td>\n",
       "    </tr>\n",
       "    <tr>\n",
       "      <th>14</th>\n",
       "      <td>CA-2020-104801</td>\n",
       "      <td>2020-02-13</td>\n",
       "      <td>2020-02-24</td>\n",
       "      <td>11 days</td>\n",
       "    </tr>\n",
       "    <tr>\n",
       "      <th>15</th>\n",
       "      <td>CA-2019-147536</td>\n",
       "      <td>2019-12-26</td>\n",
       "      <td>2020-01-06</td>\n",
       "      <td>11 days</td>\n",
       "    </tr>\n",
       "    <tr>\n",
       "      <th>16</th>\n",
       "      <td>CA-2020-125115</td>\n",
       "      <td>2020-04-10</td>\n",
       "      <td>2020-04-14</td>\n",
       "      <td>4 days</td>\n",
       "    </tr>\n",
       "    <tr>\n",
       "      <th>17</th>\n",
       "      <td>CA-2019-168536</td>\n",
       "      <td>2019-12-20</td>\n",
       "      <td>2019-12-30</td>\n",
       "      <td>10 days</td>\n",
       "    </tr>\n",
       "    <tr>\n",
       "      <th>18</th>\n",
       "      <td>CA-2019-137673</td>\n",
       "      <td>2019-09-05</td>\n",
       "      <td>2019-09-16</td>\n",
       "      <td>11 days</td>\n",
       "    </tr>\n",
       "    <tr>\n",
       "      <th>19</th>\n",
       "      <td>US-2019-131674</td>\n",
       "      <td>2019-11-29</td>\n",
       "      <td>2019-12-10</td>\n",
       "      <td>11 days</td>\n",
       "    </tr>\n",
       "  </tbody>\n",
       "</table>\n",
       "</div>"
      ],
      "text/plain": [
       "          Order_ID Order_Date Arrival_Scan_Date Duration\n",
       "0   CA-2019-145625 2019-09-11        2019-09-23  12 days\n",
       "1   CA-2019-162138 2019-04-23        2019-05-06  13 days\n",
       "2   CA-2019-169166 2019-05-09        2019-05-20  11 days\n",
       "3   CA-2020-131954 2020-01-21        2020-02-03  13 days\n",
       "4   CA-2019-102981 2019-09-06        2019-09-16  10 days\n",
       "5   CA-2019-168081 2019-04-24        2019-05-06  12 days\n",
       "6   CA-2019-119186 2019-05-26        2019-05-31   5 days\n",
       "7   CA-2019-124485 2019-11-24        2019-12-02   8 days\n",
       "8   CA-2020-115994 2020-01-28        2020-02-06   9 days\n",
       "9   CA-2019-106530 2019-05-08        2019-05-13   5 days\n",
       "10  CA-2019-128531 2019-11-24        2019-12-03   9 days\n",
       "11  CA-2020-117870 2020-01-27        2020-02-06  10 days\n",
       "12  CA-2020-140949 2020-03-17        2020-03-30  13 days\n",
       "13  CA-2019-124506 2019-11-11        2019-11-25  14 days\n",
       "14  CA-2020-104801 2020-02-13        2020-02-24  11 days\n",
       "15  CA-2019-147536 2019-12-26        2020-01-06  11 days\n",
       "16  CA-2020-125115 2020-04-10        2020-04-14   4 days\n",
       "17  CA-2019-168536 2019-12-20        2019-12-30  10 days\n",
       "18  CA-2019-137673 2019-09-05        2019-09-16  11 days\n",
       "19  US-2019-131674 2019-11-29        2019-12-10  11 days"
      ]
     },
     "execution_count": 7,
     "metadata": {},
     "output_type": "execute_result"
    }
   ],
   "source": [
    "# KPI - Lead time Order > Arrrival\n",
    "\n",
    "# create new DF from Orders and Campaigns (Order_ID, Order_Date, Arrival_Scan_Date)\n",
    "x = df_orders[[\"Order_ID\", \"Order_Date\"]]\n",
    "x.drop_duplicates(inplace=True)\n",
    "\n",
    "df_lead_time = pd.merge(\n",
    "    pd.DataFrame(x),\n",
    "    pd.DataFrame(df_campaigns[[\"Order_ID\", \"Arrival_Scan_Date\"]]),\n",
    "    on='Order_ID',\n",
    "    how='inner'\n",
    ")\n",
    "\n",
    "df_lead_time['Duration'] =  df_lead_time['Arrival_Scan_Date'] - df_lead_time['Order_Date']\n",
    "\n",
    "#df_lead_time.duplicated().value_counts()\n",
    "\n",
    "df_lead_time.head(20)"
   ]
  },
  {
   "cell_type": "code",
   "execution_count": 8,
   "metadata": {},
   "outputs": [
    {
     "data": {
      "image/png": "[encoded data removed]",
      "text/plain": [
       "<Figure size 720x504 with 1 Axes>"
      ]
     },
     "metadata": {
      "needs_background": "light"
     },
     "output_type": "display_data"
    }
   ],
   "source": [
    "df_lead_time['Duration'] = pd.to_numeric(df_lead_time['Duration'].dt.days, downcast='integer')\n",
    "# Box Plot\n",
    "\n",
    "plt.figure(figsize =(10, 7))\n",
    "plt.boxplot(df_lead_time['Duration'])\n",
    "plt.show()"
   ]
  },
  {
   "cell_type": "code",
   "execution_count": 9,
   "metadata": {},
   "outputs": [
    {
     "data": {
      "text/plain": [
       "count    333.000000\n",
       "mean      10.834835\n",
       "std        2.862257\n",
       "min        3.000000\n",
       "25%        9.000000\n",
       "50%       11.000000\n",
       "75%       13.000000\n",
       "max       17.000000\n",
       "Name: Duration, dtype: float64"
      ]
     },
     "execution_count": 9,
     "metadata": {},
     "output_type": "execute_result"
    }
   ],
   "source": [
    "df_lead_time['Duration'].describe()"
   ]
  },
  {
   "cell_type": "code",
   "execution_count": 10,
   "metadata": {},
   "outputs": [],
   "source": [
    "# Filter Ship_Mode\n",
    "df_express_data.query('Ship_Mode == \"Express\"', inplace = True)\n",
    "df_standard_data.query('Ship_Mode == \"Standard Processing\"', inplace = True)"
   ]
  },
  {
   "cell_type": "code",
   "execution_count": 11,
   "metadata": {},
   "outputs": [],
   "source": [
    "a = df_orders_data[[\"Order_ID\", \"Order_Date\"]]\n",
    "b = df_express_data[['Order_ID','Ship_Mode']]\n",
    "c = df_standard_data[['Order_ID','Ship_Mode']]\n",
    "d = df_campaigns[[\"Order_ID\", \"Arrival_Scan_Date\"]]\n",
    "\n",
    "df_express_lead_time = pd.merge(\n",
    "    pd.DataFrame(a),\n",
    "    pd.DataFrame(b) ,\n",
    "    on='Order_ID',\n",
    "    how='inner'\n",
    ")\n",
    "\n",
    "express = pd.merge(\n",
    "    pd.DataFrame(df_express_lead_time),\n",
    "    pd.DataFrame(d) ,\n",
    "    on='Order_ID',\n",
    "    how='inner'\n",
    ")\n",
    "\n",
    "express['Duration'] =  express['Arrival_Scan_Date'] - express['Order_Date']\n",
    "\n",
    "df_standard_lead_time = pd.merge(\n",
    "    pd.DataFrame(a),\n",
    "    pd.DataFrame(c) ,\n",
    "    on='Order_ID',\n",
    "    how='inner'\n",
    ")\n",
    "\n",
    "standard = pd.merge(\n",
    "    pd.DataFrame(df_standard_lead_time),\n",
    "    pd.DataFrame(d) ,\n",
    "    on='Order_ID',\n",
    "    how='inner'\n",
    ")\n",
    "\n",
    "standard['Duration'] =  standard['Arrival_Scan_Date'] - standard['Order_Date']\n",
    "\n",
    "express.drop_duplicates(inplace=True)\n",
    "#express.head()\n",
    "\n",
    "standard.drop_duplicates(inplace=True)\n",
    "#standard.head()"
   ]
  },
  {
   "cell_type": "code",
   "execution_count": 12,
   "metadata": {},
   "outputs": [
    {
     "data": {
      "image/png": "[encoded data removed]",
      "text/plain": [
       "<Figure size 720x504 with 1 Axes>"
      ]
     },
     "metadata": {
      "needs_background": "light"
     },
     "output_type": "display_data"
    }
   ],
   "source": [
    "express['Duration'] = pd.to_numeric(express['Duration'].dt.days, downcast='integer')\n",
    "\n",
    "plt.figure(figsize =(10, 7))\n",
    "#plt.bar(x=express['Order_Date'], height=express['Duration'], color='black')\n",
    "#plt.bar(x=standard['Order_Date'], height=standard['Duration'], color='red')\n",
    "#plt.scatter(x=standard['Order_Date'], y=standard['Duration'])\n",
    "plt.boxplot(express['Duration'])\n",
    "#plt.ylim(2,14)\n",
    "plt.show()"
   ]
  },
  {
   "cell_type": "code",
   "execution_count": 13,
   "metadata": {},
   "outputs": [
    {
     "data": {
      "text/plain": [
       "count    75.000000\n",
       "mean      7.053333\n",
       "std       2.155404\n",
       "min       3.000000\n",
       "25%       5.000000\n",
       "50%       7.000000\n",
       "75%       8.000000\n",
       "max      13.000000\n",
       "Name: Duration, dtype: float64"
      ]
     },
     "execution_count": 13,
     "metadata": {},
     "output_type": "execute_result"
    }
   ],
   "source": [
    "express['Duration'].describe()"
   ]
  },
  {
   "cell_type": "code",
   "execution_count": 14,
   "metadata": {},
   "outputs": [
    {
     "data": {
      "image/png": "[encoded data removed]",
      "text/plain": [
       "<Figure size 720x504 with 1 Axes>"
      ]
     },
     "metadata": {
      "needs_background": "light"
     },
     "output_type": "display_data"
    }
   ],
   "source": [
    "standard['Duration'] = pd.to_numeric(standard['Duration'].dt.days, downcast='integer')\n",
    "\n",
    "plt.figure(figsize =(10, 7))\n",
    "#plt.bar(x=express['Order_Date'], height=express['Duration'], color='black')\n",
    "#plt.bar(x=standard['Order_Date'], height=standard['Duration'], color='red')\n",
    "#plt.scatter(x=standard['Order_Date'], y=standard['Duration'])\n",
    "plt.boxplot(standard['Duration'])\n",
    "plt.show()"
   ]
  },
  {
   "cell_type": "code",
   "execution_count": 15,
   "metadata": {},
   "outputs": [
    {
     "data": {
      "text/plain": [
       "count    258.000000\n",
       "mean      11.934109\n",
       "std        1.964549\n",
       "min        6.000000\n",
       "25%       11.000000\n",
       "50%       12.000000\n",
       "75%       13.000000\n",
       "max       17.000000\n",
       "Name: Duration, dtype: float64"
      ]
     },
     "execution_count": 15,
     "metadata": {},
     "output_type": "execute_result"
    }
   ],
   "source": [
    "standard['Duration'].describe()"
   ]
  },
  {
   "cell_type": "code",
   "execution_count": 16,
   "metadata": {},
   "outputs": [
    {
     "data": {
      "image/png": "[encoded data removed]",
      "text/plain": [
       "<Figure size 432x288 with 1 Axes>"
      ]
     },
     "metadata": {
      "needs_background": "light"
     },
     "output_type": "display_data"
    }
   ],
   "source": [
    "fig, ax = plt.subplots()\n",
    "fig.suptitle('Duration from Ordered to Delivered')\n",
    "plt.boxplot([df_lead_time['Duration'], express['Duration'], standard['Duration']])\n",
    "ax.set_xticklabels(['Combined','Express', 'Standard'])\n",
    "plt.ylabel('Days')\n",
    "plt.show()"
   ]
  },
  {
   "cell_type": "code",
   "execution_count": 17,
   "metadata": {},
   "outputs": [
    {
     "data": {
      "text/html": [
       "<div>\n",
       "<style scoped>\n",
       "    .dataframe tbody tr th:only-of-type {\n",
       "        vertical-align: middle;\n",
       "    }\n",
       "\n",
       "    .dataframe tbody tr th {\n",
       "        vertical-align: top;\n",
       "    }\n",
       "\n",
       "    .dataframe thead th {\n",
       "        text-align: right;\n",
       "    }\n",
       "</style>\n",
       "<table border=\"1\" class=\"dataframe\">\n",
       "  <thead>\n",
       "    <tr style=\"text-align: right;\">\n",
       "      <th></th>\n",
       "      <th>Order_ID</th>\n",
       "      <th>Order_Date</th>\n",
       "      <th>Arrival_Scan_Date</th>\n",
       "      <th>Duration</th>\n",
       "    </tr>\n",
       "  </thead>\n",
       "  <tbody>\n",
       "    <tr>\n",
       "      <th>0</th>\n",
       "      <td>CA-2019-145625</td>\n",
       "      <td>2019-09-11</td>\n",
       "      <td>2019-09-23</td>\n",
       "      <td>12</td>\n",
       "    </tr>\n",
       "    <tr>\n",
       "      <th>1</th>\n",
       "      <td>CA-2019-162138</td>\n",
       "      <td>2019-04-23</td>\n",
       "      <td>2019-05-06</td>\n",
       "      <td>13</td>\n",
       "    </tr>\n",
       "    <tr>\n",
       "      <th>2</th>\n",
       "      <td>CA-2019-169166</td>\n",
       "      <td>2019-05-09</td>\n",
       "      <td>2019-05-20</td>\n",
       "      <td>11</td>\n",
       "    </tr>\n",
       "    <tr>\n",
       "      <th>3</th>\n",
       "      <td>CA-2020-131954</td>\n",
       "      <td>2020-01-21</td>\n",
       "      <td>2020-02-03</td>\n",
       "      <td>13</td>\n",
       "    </tr>\n",
       "    <tr>\n",
       "      <th>4</th>\n",
       "      <td>CA-2019-102981</td>\n",
       "      <td>2019-09-06</td>\n",
       "      <td>2019-09-16</td>\n",
       "      <td>10</td>\n",
       "    </tr>\n",
       "  </tbody>\n",
       "</table>\n",
       "</div>"
      ],
      "text/plain": [
       "         Order_ID Order_Date Arrival_Scan_Date  Duration\n",
       "0  CA-2019-145625 2019-09-11        2019-09-23        12\n",
       "1  CA-2019-162138 2019-04-23        2019-05-06        13\n",
       "2  CA-2019-169166 2019-05-09        2019-05-20        11\n",
       "3  CA-2020-131954 2020-01-21        2020-02-03        13\n",
       "4  CA-2019-102981 2019-09-06        2019-09-16        10"
      ]
     },
     "execution_count": 17,
     "metadata": {},
     "output_type": "execute_result"
    }
   ],
   "source": [
    "df_lead_time.head()"
   ]
  },
  {
   "cell_type": "code",
   "execution_count": 25,
   "metadata": {},
   "outputs": [
    {
     "data": {
      "image/png": "[encoded data removed]",
      "text/plain": [
       "<Figure size 1080x648 with 1 Axes>"
      ]
     },
     "metadata": {
      "needs_background": "light"
     },
     "output_type": "display_data"
    }
   ],
   "source": [
    "# Min or Max Duration per Month\n",
    "x = df_lead_time.groupby(df_lead_time['Order_Date'].dt.to_period('M'))['Duration'].agg(['min'])\n",
    "x.plot.bar(xlabel=\"Year/Month\", ylabel=\"Min. Duration\", title=\"Duration (Lead Time) per Month\")\n",
    "plt.rcParams[\"figure.figsize\"] = [15, 9]\n",
    "plt.xticks(rotation=30, horizontalalignment=\"center\")\n",
    "plt.show(block=True)"
   ]
  },
  {
   "cell_type": "code",
   "execution_count": null,
   "metadata": {},
   "outputs": [],
   "source": []
  }
 ],
 "metadata": {
  "interpreter": {
   "hash": "ab3d85a18739f6fff6a9c8c504adc2ff9340867b576dede986e2ee74c099e4e5"
  },
  "kernelspec": {
   "display_name": "Python 3.9.7 ('nf_base')",
   "language": "python",
   "name": "python3"
  },
  "language_info": {
   "codemirror_mode": {
    "name": "ipython",
    "version": 3
   },
   "file_extension": ".py",
   "mimetype": "text/x-python",
   "name": "python",
   "nbconvert_exporter": "python",
   "pygments_lexer": "ipython3",
   "version": "3.9.7"
  },
  "orig_nbformat": 4
 },
 "nbformat": 4,
 "nbformat_minor": 2
}
